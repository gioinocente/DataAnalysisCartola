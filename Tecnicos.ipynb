{
 "cells": [
  {
   "cell_type": "code",
   "execution_count": 1,
   "metadata": {},
   "outputs": [],
   "source": [
    "import pandas as pd"
   ]
  },
  {
   "cell_type": "code",
   "execution_count": 2,
   "metadata": {},
   "outputs": [],
   "source": [
    "tecnicos = pd.read_csv('Dados/Tecnico.csv')"
   ]
  },
  {
   "cell_type": "code",
   "execution_count": 3,
   "metadata": {},
   "outputs": [
    {
     "data": {
      "text/html": [
       "<div>\n",
       "<style scoped>\n",
       "    .dataframe tbody tr th:only-of-type {\n",
       "        vertical-align: middle;\n",
       "    }\n",
       "\n",
       "    .dataframe tbody tr th {\n",
       "        vertical-align: top;\n",
       "    }\n",
       "\n",
       "    .dataframe thead th {\n",
       "        text-align: right;\n",
       "    }\n",
       "</style>\n",
       "<table border=\"1\" class=\"dataframe\">\n",
       "  <thead>\n",
       "    <tr style=\"text-align: right;\">\n",
       "      <th></th>\n",
       "      <th>apelido</th>\n",
       "      <th>clube</th>\n",
       "      <th>posicao</th>\n",
       "      <th>preco</th>\n",
       "      <th>pontos</th>\n",
       "      <th>variacao</th>\n",
       "      <th>media</th>\n",
       "      <th>rodada</th>\n",
       "      <th>jogos</th>\n",
       "    </tr>\n",
       "  </thead>\n",
       "  <tbody>\n",
       "    <tr>\n",
       "      <th>0</th>\n",
       "      <td>Dado Cavalcanti</td>\n",
       "      <td>Bahia</td>\n",
       "      <td>Tecnico</td>\n",
       "      <td>7.12</td>\n",
       "      <td>6.23</td>\n",
       "      <td>3.12</td>\n",
       "      <td>6.23</td>\n",
       "      <td>1</td>\n",
       "      <td>1</td>\n",
       "    </tr>\n",
       "    <tr>\n",
       "      <th>1</th>\n",
       "      <td>Hernán Crespo</td>\n",
       "      <td>São Paulo</td>\n",
       "      <td>Tecnico</td>\n",
       "      <td>10.81</td>\n",
       "      <td>5.53</td>\n",
       "      <td>0.81</td>\n",
       "      <td>5.53</td>\n",
       "      <td>1</td>\n",
       "      <td>1</td>\n",
       "    </tr>\n",
       "    <tr>\n",
       "      <th>2</th>\n",
       "      <td>Miguel Ángel Ramírez</td>\n",
       "      <td>Internacional</td>\n",
       "      <td>Tecnico</td>\n",
       "      <td>6.96</td>\n",
       "      <td>1.99</td>\n",
       "      <td>-1.04</td>\n",
       "      <td>1.99</td>\n",
       "      <td>1</td>\n",
       "      <td>1</td>\n",
       "    </tr>\n",
       "    <tr>\n",
       "      <th>3</th>\n",
       "      <td>Umberto Louzer</td>\n",
       "      <td>Sport</td>\n",
       "      <td>Tecnico</td>\n",
       "      <td>3.82</td>\n",
       "      <td>3.49</td>\n",
       "      <td>1.82</td>\n",
       "      <td>3.49</td>\n",
       "      <td>1</td>\n",
       "      <td>1</td>\n",
       "    </tr>\n",
       "    <tr>\n",
       "      <th>4</th>\n",
       "      <td>Abel Ferreira</td>\n",
       "      <td>Palmeiras</td>\n",
       "      <td>Tecnico</td>\n",
       "      <td>10.29</td>\n",
       "      <td>2.78</td>\n",
       "      <td>-1.71</td>\n",
       "      <td>2.78</td>\n",
       "      <td>1</td>\n",
       "      <td>1</td>\n",
       "    </tr>\n",
       "  </tbody>\n",
       "</table>\n",
       "</div>"
      ],
      "text/plain": [
       "                apelido          clube  posicao  preco  pontos  variacao  \\\n",
       "0       Dado Cavalcanti          Bahia  Tecnico   7.12    6.23      3.12   \n",
       "1         Hernán Crespo      São Paulo  Tecnico  10.81    5.53      0.81   \n",
       "2  Miguel Ángel Ramírez  Internacional  Tecnico   6.96    1.99     -1.04   \n",
       "3        Umberto Louzer          Sport  Tecnico   3.82    3.49      1.82   \n",
       "4         Abel Ferreira      Palmeiras  Tecnico  10.29    2.78     -1.71   \n",
       "\n",
       "   media  rodada  jogos  \n",
       "0   6.23       1      1  \n",
       "1   5.53       1      1  \n",
       "2   1.99       1      1  \n",
       "3   3.49       1      1  \n",
       "4   2.78       1      1  "
      ]
     },
     "execution_count": 3,
     "metadata": {},
     "output_type": "execute_result"
    }
   ],
   "source": [
    "tecnicos.head()"
   ]
  },
  {
   "cell_type": "markdown",
   "metadata": {},
   "source": [
    "<h1>Maior pontuação"
   ]
  },
  {
   "cell_type": "code",
   "execution_count": 4,
   "metadata": {},
   "outputs": [
    {
     "data": {
      "text/html": [
       "<div>\n",
       "<style scoped>\n",
       "    .dataframe tbody tr th:only-of-type {\n",
       "        vertical-align: middle;\n",
       "    }\n",
       "\n",
       "    .dataframe tbody tr th {\n",
       "        vertical-align: top;\n",
       "    }\n",
       "\n",
       "    .dataframe thead th {\n",
       "        text-align: right;\n",
       "    }\n",
       "</style>\n",
       "<table border=\"1\" class=\"dataframe\">\n",
       "  <thead>\n",
       "    <tr style=\"text-align: right;\">\n",
       "      <th></th>\n",
       "      <th>apelido</th>\n",
       "      <th>clube</th>\n",
       "      <th>posicao</th>\n",
       "      <th>preco</th>\n",
       "      <th>pontos</th>\n",
       "      <th>variacao</th>\n",
       "      <th>media</th>\n",
       "      <th>rodada</th>\n",
       "      <th>jogos</th>\n",
       "    </tr>\n",
       "  </thead>\n",
       "  <tbody>\n",
       "    <tr>\n",
       "      <th>10</th>\n",
       "      <td>Maurício Barbieri</td>\n",
       "      <td>Bragantino</td>\n",
       "      <td>Tecnico</td>\n",
       "      <td>10.96</td>\n",
       "      <td>8.74</td>\n",
       "      <td>3.96</td>\n",
       "      <td>8.74</td>\n",
       "      <td>1</td>\n",
       "      <td>1</td>\n",
       "    </tr>\n",
       "  </tbody>\n",
       "</table>\n",
       "</div>"
      ],
      "text/plain": [
       "              apelido       clube  posicao  preco  pontos  variacao  media  \\\n",
       "10  Maurício Barbieri  Bragantino  Tecnico  10.96    8.74      3.96   8.74   \n",
       "\n",
       "    rodada  jogos  \n",
       "10       1      1  "
      ]
     },
     "execution_count": 4,
     "metadata": {},
     "output_type": "execute_result"
    }
   ],
   "source": [
    "tecnicos[tecnicos['pontos'] == tecnicos['pontos'].max()]"
   ]
  },
  {
   "cell_type": "code",
   "execution_count": null,
   "metadata": {},
   "outputs": [],
   "source": []
  }
 ],
 "metadata": {
  "kernelspec": {
   "display_name": "Python 3",
   "language": "python",
   "name": "python3"
  },
  "language_info": {
   "codemirror_mode": {
    "name": "ipython",
    "version": 3
   },
   "file_extension": ".py",
   "mimetype": "text/x-python",
   "name": "python",
   "nbconvert_exporter": "python",
   "pygments_lexer": "ipython3",
   "version": "3.8.5"
  }
 },
 "nbformat": 4,
 "nbformat_minor": 4
}
