{
 "cells": [
  {
   "cell_type": "code",
   "execution_count": 1,
   "metadata": {},
   "outputs": [],
   "source": [
    "import pandas as pd"
   ]
  },
  {
   "cell_type": "code",
   "execution_count": 3,
   "metadata": {},
   "outputs": [],
   "source": [
    "zagueiros = pd.read_csv('Dados/Zagueiro.csv')"
   ]
  },
  {
   "cell_type": "code",
   "execution_count": 4,
   "metadata": {},
   "outputs": [
    {
     "data": {
      "text/html": [
       "<div>\n",
       "<style scoped>\n",
       "    .dataframe tbody tr th:only-of-type {\n",
       "        vertical-align: middle;\n",
       "    }\n",
       "\n",
       "    .dataframe tbody tr th {\n",
       "        vertical-align: top;\n",
       "    }\n",
       "\n",
       "    .dataframe thead th {\n",
       "        text-align: right;\n",
       "    }\n",
       "</style>\n",
       "<table border=\"1\" class=\"dataframe\">\n",
       "  <thead>\n",
       "    <tr style=\"text-align: right;\">\n",
       "      <th></th>\n",
       "      <th>apelido</th>\n",
       "      <th>clube</th>\n",
       "      <th>posicao</th>\n",
       "      <th>preco</th>\n",
       "      <th>pontos</th>\n",
       "      <th>variacao</th>\n",
       "      <th>media</th>\n",
       "      <th>rodada</th>\n",
       "      <th>jogos</th>\n",
       "    </tr>\n",
       "  </thead>\n",
       "  <tbody>\n",
       "    <tr>\n",
       "      <th>0</th>\n",
       "      <td>Luan Peres</td>\n",
       "      <td>Santos</td>\n",
       "      <td>Zagueiro</td>\n",
       "      <td>6.47</td>\n",
       "      <td>1.3</td>\n",
       "      <td>-1.53</td>\n",
       "      <td>1.3</td>\n",
       "      <td>1</td>\n",
       "      <td>1</td>\n",
       "    </tr>\n",
       "    <tr>\n",
       "      <th>1</th>\n",
       "      <td>Víctor Cuesta</td>\n",
       "      <td>Internacional</td>\n",
       "      <td>Zagueiro</td>\n",
       "      <td>10.65</td>\n",
       "      <td>-0.7</td>\n",
       "      <td>-5.35</td>\n",
       "      <td>-0.7</td>\n",
       "      <td>1</td>\n",
       "      <td>1</td>\n",
       "    </tr>\n",
       "    <tr>\n",
       "      <th>2</th>\n",
       "      <td>Gustavo Gómez</td>\n",
       "      <td>Palmeiras</td>\n",
       "      <td>Zagueiro</td>\n",
       "      <td>12.67</td>\n",
       "      <td>1.2</td>\n",
       "      <td>-4.33</td>\n",
       "      <td>1.2</td>\n",
       "      <td>1</td>\n",
       "      <td>1</td>\n",
       "    </tr>\n",
       "    <tr>\n",
       "      <th>3</th>\n",
       "      <td>Eduardo Bauermann</td>\n",
       "      <td>América-MG</td>\n",
       "      <td>Zagueiro</td>\n",
       "      <td>2.23</td>\n",
       "      <td>-0.8</td>\n",
       "      <td>-1.77</td>\n",
       "      <td>-0.8</td>\n",
       "      <td>1</td>\n",
       "      <td>1</td>\n",
       "    </tr>\n",
       "    <tr>\n",
       "      <th>4</th>\n",
       "      <td>Ricardo Silva</td>\n",
       "      <td>América-MG</td>\n",
       "      <td>Zagueiro</td>\n",
       "      <td>3.00</td>\n",
       "      <td>0.0</td>\n",
       "      <td>0.00</td>\n",
       "      <td>0.0</td>\n",
       "      <td>1</td>\n",
       "      <td>0</td>\n",
       "    </tr>\n",
       "  </tbody>\n",
       "</table>\n",
       "</div>"
      ],
      "text/plain": [
       "             apelido          clube   posicao  preco  pontos  variacao  media  \\\n",
       "0        Luan Peres          Santos  Zagueiro   6.47     1.3     -1.53    1.3   \n",
       "1      Víctor Cuesta  Internacional  Zagueiro  10.65    -0.7     -5.35   -0.7   \n",
       "2      Gustavo Gómez      Palmeiras  Zagueiro  12.67     1.2     -4.33    1.2   \n",
       "3  Eduardo Bauermann     América-MG  Zagueiro   2.23    -0.8     -1.77   -0.8   \n",
       "4      Ricardo Silva     América-MG  Zagueiro   3.00     0.0      0.00    0.0   \n",
       "\n",
       "   rodada  jogos  \n",
       "0       1      1  \n",
       "1       1      1  \n",
       "2       1      1  \n",
       "3       1      1  \n",
       "4       1      0  "
      ]
     },
     "execution_count": 4,
     "metadata": {},
     "output_type": "execute_result"
    }
   ],
   "source": [
    "zagueiros.head()"
   ]
  },
  {
   "cell_type": "markdown",
   "metadata": {},
   "source": [
    "<h1>Maior pontuação"
   ]
  },
  {
   "cell_type": "code",
   "execution_count": 5,
   "metadata": {},
   "outputs": [
    {
     "data": {
      "text/html": [
       "<div>\n",
       "<style scoped>\n",
       "    .dataframe tbody tr th:only-of-type {\n",
       "        vertical-align: middle;\n",
       "    }\n",
       "\n",
       "    .dataframe tbody tr th {\n",
       "        vertical-align: top;\n",
       "    }\n",
       "\n",
       "    .dataframe thead th {\n",
       "        text-align: right;\n",
       "    }\n",
       "</style>\n",
       "<table border=\"1\" class=\"dataframe\">\n",
       "  <thead>\n",
       "    <tr style=\"text-align: right;\">\n",
       "      <th></th>\n",
       "      <th>apelido</th>\n",
       "      <th>clube</th>\n",
       "      <th>posicao</th>\n",
       "      <th>preco</th>\n",
       "      <th>pontos</th>\n",
       "      <th>variacao</th>\n",
       "      <th>media</th>\n",
       "      <th>rodada</th>\n",
       "      <th>jogos</th>\n",
       "    </tr>\n",
       "  </thead>\n",
       "  <tbody>\n",
       "    <tr>\n",
       "      <th>21</th>\n",
       "      <td>Fabrício Bruno</td>\n",
       "      <td>Bragantino</td>\n",
       "      <td>Zagueiro</td>\n",
       "      <td>12.32</td>\n",
       "      <td>13.7</td>\n",
       "      <td>8.32</td>\n",
       "      <td>13.7</td>\n",
       "      <td>1</td>\n",
       "      <td>1</td>\n",
       "    </tr>\n",
       "  </tbody>\n",
       "</table>\n",
       "</div>"
      ],
      "text/plain": [
       "           apelido       clube   posicao  preco  pontos  variacao  media  \\\n",
       "21  Fabrício Bruno  Bragantino  Zagueiro  12.32    13.7      8.32   13.7   \n",
       "\n",
       "    rodada  jogos  \n",
       "21       1      1  "
      ]
     },
     "execution_count": 5,
     "metadata": {},
     "output_type": "execute_result"
    }
   ],
   "source": [
    "zagueiros[zagueiros['pontos'] == zagueiros['pontos'].max()]"
   ]
  },
  {
   "cell_type": "code",
   "execution_count": null,
   "metadata": {},
   "outputs": [],
   "source": []
  }
 ],
 "metadata": {
  "kernelspec": {
   "display_name": "Python 3",
   "language": "python",
   "name": "python3"
  },
  "language_info": {
   "codemirror_mode": {
    "name": "ipython",
    "version": 3
   },
   "file_extension": ".py",
   "mimetype": "text/x-python",
   "name": "python",
   "nbconvert_exporter": "python",
   "pygments_lexer": "ipython3",
   "version": "3.8.5"
  }
 },
 "nbformat": 4,
 "nbformat_minor": 4
}
