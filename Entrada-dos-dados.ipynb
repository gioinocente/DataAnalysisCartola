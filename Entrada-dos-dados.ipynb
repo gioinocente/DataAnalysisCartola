{
 "cells": [
  {
   "cell_type": "code",
   "execution_count": 209,
   "metadata": {},
   "outputs": [],
   "source": [
    "import pandas as pd\n",
    "import requests\n",
    "import json"
   ]
  },
  {
   "cell_type": "code",
   "execution_count": 210,
   "metadata": {},
   "outputs": [],
   "source": [
    "#Lê os dados da API do cartola\n",
    "response = requests.get('https://api.cartolafc.globo.com/atletas/mercado')\n",
    "data = json.loads(response.text)\n",
    "atletas = pd.DataFrame(data['atletas'])\n",
    "times = pd.DataFrame(data['clubes']).T"
   ]
  },
  {
   "cell_type": "code",
   "execution_count": 211,
   "metadata": {},
   "outputs": [
    {
     "data": {
      "text/plain": [
       "1"
      ]
     },
     "execution_count": 211,
     "metadata": {},
     "output_type": "execute_result"
    }
   ],
   "source": [
    "rodada = atletas['rodada_id'].unique()\n",
    "rodada[0]"
   ]
  },
  {
   "cell_type": "code",
   "execution_count": 212,
   "metadata": {},
   "outputs": [],
   "source": [
    "#remove as colunas desnecessarias\n",
    "atletas.drop(['scout', 'atleta_id', 'rodada_id', 'status_id', 'slug', 'apelido_abreviado', 'nome', 'foto'], axis=1, inplace=True)\n",
    "times.drop(['abreviacao', 'escudos', 'nome_fantasia'], axis=1, inplace=True)\n",
    "#reordena as colunas\n",
    "atletas = atletas[['apelido', 'clube_id', 'posicao_id', 'preco_num', 'pontos_num', 'variacao_num', 'media_num', 'jogos_num']]"
   ]
  },
  {
   "cell_type": "code",
   "execution_count": 213,
   "metadata": {},
   "outputs": [],
   "source": [
    "atletas.posicao_id = atletas.posicao_id.map({1:'Goleiro', 2:'Lateral', 3:'Zagueiro', 4:'Meia', 5:'Atacante', 6:'Tecnico'})\n",
    "times_id = times['id'].to_list()\n",
    "times_nome = times['nome'].to_list()\n",
    "dictionary = dict(zip(times_id, times_nome))\n",
    "atletas.clube_id = atletas.clube_id.map(dictionary)\n",
    "#renomeia as colunas\n",
    "atletas.rename(columns={'clube_id': 'clube', 'posicao_id': 'posicao', 'preco_num': 'preco', 'pontos_num': 'pontos', 'variacao_num': 'variacao', 'media_num': 'media', 'jogos_num': 'jogos'}, inplace=True)"
   ]
  },
  {
   "cell_type": "code",
   "execution_count": 214,
   "metadata": {},
   "outputs": [],
   "source": [
    "positions = atletas['posicao'].unique()\n",
    "for posicao in positions:\n",
    "    nome = 'Dados/'+posicao+ '/' + str(rodada[0]) + '.csv'\n",
    "    atletas[atletas['posicao'] == posicao].to_csv(nome, index=False)"
   ]
  }
 ],
 "metadata": {
  "kernelspec": {
   "display_name": "Python 3",
   "language": "python",
   "name": "python3"
  },
  "language_info": {
   "codemirror_mode": {
    "name": "ipython",
    "version": 3
   },
   "file_extension": ".py",
   "mimetype": "text/x-python",
   "name": "python",
   "nbconvert_exporter": "python",
   "pygments_lexer": "ipython3",
   "version": "3.8.5"
  }
 },
 "nbformat": 4,
 "nbformat_minor": 4
}
