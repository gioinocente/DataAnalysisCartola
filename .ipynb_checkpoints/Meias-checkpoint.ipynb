{
 "cells": [
  {
   "cell_type": "code",
   "execution_count": 2,
   "metadata": {},
   "outputs": [],
   "source": [
    "import pandas as pd\n",
    "import seaborn as sns"
   ]
  },
  {
   "cell_type": "code",
   "execution_count": 3,
   "metadata": {},
   "outputs": [],
   "source": [
    "meias = pd.read_csv('Dados/meia.csv')"
   ]
  },
  {
   "cell_type": "code",
   "execution_count": 4,
   "metadata": {},
   "outputs": [
    {
     "data": {
      "text/html": [
       "<div>\n",
       "<style scoped>\n",
       "    .dataframe tbody tr th:only-of-type {\n",
       "        vertical-align: middle;\n",
       "    }\n",
       "\n",
       "    .dataframe tbody tr th {\n",
       "        vertical-align: top;\n",
       "    }\n",
       "\n",
       "    .dataframe thead th {\n",
       "        text-align: right;\n",
       "    }\n",
       "</style>\n",
       "<table border=\"1\" class=\"dataframe\">\n",
       "  <thead>\n",
       "    <tr style=\"text-align: right;\">\n",
       "      <th></th>\n",
       "      <th>apelido</th>\n",
       "      <th>clube</th>\n",
       "      <th>posicao</th>\n",
       "      <th>preco</th>\n",
       "      <th>pontos</th>\n",
       "      <th>variacao</th>\n",
       "      <th>media</th>\n",
       "      <th>rodada</th>\n",
       "      <th>jogos</th>\n",
       "    </tr>\n",
       "  </thead>\n",
       "  <tbody>\n",
       "    <tr>\n",
       "      <th>0</th>\n",
       "      <td>Juninho</td>\n",
       "      <td>América-MG</td>\n",
       "      <td>Meia</td>\n",
       "      <td>3.97</td>\n",
       "      <td>0.7</td>\n",
       "      <td>-1.03</td>\n",
       "      <td>0.7</td>\n",
       "      <td>1</td>\n",
       "      <td>1</td>\n",
       "    </tr>\n",
       "    <tr>\n",
       "      <th>1</th>\n",
       "      <td>Zé Rafael</td>\n",
       "      <td>Palmeiras</td>\n",
       "      <td>Meia</td>\n",
       "      <td>5.71</td>\n",
       "      <td>0.2</td>\n",
       "      <td>-2.29</td>\n",
       "      <td>0.2</td>\n",
       "      <td>1</td>\n",
       "      <td>1</td>\n",
       "    </tr>\n",
       "    <tr>\n",
       "      <th>2</th>\n",
       "      <td>Raphael Veiga</td>\n",
       "      <td>Palmeiras</td>\n",
       "      <td>Meia</td>\n",
       "      <td>12.53</td>\n",
       "      <td>3.0</td>\n",
       "      <td>-2.47</td>\n",
       "      <td>3.0</td>\n",
       "      <td>1</td>\n",
       "      <td>1</td>\n",
       "    </tr>\n",
       "    <tr>\n",
       "      <th>3</th>\n",
       "      <td>Wagner</td>\n",
       "      <td>Juventude</td>\n",
       "      <td>Meia</td>\n",
       "      <td>5.00</td>\n",
       "      <td>0.0</td>\n",
       "      <td>0.00</td>\n",
       "      <td>0.0</td>\n",
       "      <td>1</td>\n",
       "      <td>0</td>\n",
       "    </tr>\n",
       "    <tr>\n",
       "      <th>4</th>\n",
       "      <td>Benítez</td>\n",
       "      <td>São Paulo</td>\n",
       "      <td>Meia</td>\n",
       "      <td>9.00</td>\n",
       "      <td>0.0</td>\n",
       "      <td>0.00</td>\n",
       "      <td>0.0</td>\n",
       "      <td>1</td>\n",
       "      <td>0</td>\n",
       "    </tr>\n",
       "  </tbody>\n",
       "</table>\n",
       "</div>"
      ],
      "text/plain": [
       "         apelido       clube posicao  preco  pontos  variacao  media  rodada  \\\n",
       "0        Juninho  América-MG    Meia   3.97     0.7     -1.03    0.7       1   \n",
       "1     Zé Rafael    Palmeiras    Meia   5.71     0.2     -2.29    0.2       1   \n",
       "2  Raphael Veiga   Palmeiras    Meia  12.53     3.0     -2.47    3.0       1   \n",
       "3         Wagner   Juventude    Meia   5.00     0.0      0.00    0.0       1   \n",
       "4        Benítez   São Paulo    Meia   9.00     0.0      0.00    0.0       1   \n",
       "\n",
       "   jogos  \n",
       "0      1  \n",
       "1      1  \n",
       "2      1  \n",
       "3      0  \n",
       "4      0  "
      ]
     },
     "execution_count": 4,
     "metadata": {},
     "output_type": "execute_result"
    }
   ],
   "source": [
    "meias.head()"
   ]
  },
  {
   "cell_type": "markdown",
   "metadata": {},
   "source": [
    "<h1>Maior pontuação"
   ]
  },
  {
   "cell_type": "code",
   "execution_count": 5,
   "metadata": {},
   "outputs": [
    {
     "data": {
      "text/html": [
       "<div>\n",
       "<style scoped>\n",
       "    .dataframe tbody tr th:only-of-type {\n",
       "        vertical-align: middle;\n",
       "    }\n",
       "\n",
       "    .dataframe tbody tr th {\n",
       "        vertical-align: top;\n",
       "    }\n",
       "\n",
       "    .dataframe thead th {\n",
       "        text-align: right;\n",
       "    }\n",
       "</style>\n",
       "<table border=\"1\" class=\"dataframe\">\n",
       "  <thead>\n",
       "    <tr style=\"text-align: right;\">\n",
       "      <th></th>\n",
       "      <th>apelido</th>\n",
       "      <th>clube</th>\n",
       "      <th>posicao</th>\n",
       "      <th>preco</th>\n",
       "      <th>pontos</th>\n",
       "      <th>variacao</th>\n",
       "      <th>media</th>\n",
       "      <th>rodada</th>\n",
       "      <th>jogos</th>\n",
       "    </tr>\n",
       "  </thead>\n",
       "  <tbody>\n",
       "    <tr>\n",
       "      <th>128</th>\n",
       "      <td>Thaciano</td>\n",
       "      <td>Bahia</td>\n",
       "      <td>Meia</td>\n",
       "      <td>16.71</td>\n",
       "      <td>18.0</td>\n",
       "      <td>10.71</td>\n",
       "      <td>18.0</td>\n",
       "      <td>1</td>\n",
       "      <td>1</td>\n",
       "    </tr>\n",
       "  </tbody>\n",
       "</table>\n",
       "</div>"
      ],
      "text/plain": [
       "      apelido  clube posicao  preco  pontos  variacao  media  rodada  jogos\n",
       "128  Thaciano  Bahia    Meia  16.71    18.0     10.71   18.0       1      1"
      ]
     },
     "execution_count": 5,
     "metadata": {},
     "output_type": "execute_result"
    }
   ],
   "source": [
    "meias[meias['pontos'] == meias['pontos'].max()]"
   ]
  },
  {
   "cell_type": "code",
   "execution_count": 13,
   "metadata": {},
   "outputs": [
    {
     "data": {
      "text/plain": [
       "<seaborn.axisgrid.FacetGrid at 0x270da5f0c70>"
      ]
     },
     "execution_count": 13,
     "metadata": {},
     "output_type": "execute_result"
    },
    {
     "data": {
      "image/png": "[encoded data removed]",
      "text/plain": [
       "<Figure size 360x360 with 1 Axes>"
      ]
     },
     "metadata": {
      "needs_background": "light"
     },
     "output_type": "display_data"
    }
   ],
   "source": [
    "sns.lmplot(y='pontos', x='preco', data=meias[meias['jogos'] > 0])"
   ]
  },
  {
   "cell_type": "markdown",
   "metadata": {},
   "source": [
    "<h3> Comparativo entre os meias atacantes e meias defencivos da dupla GRENAL\n",
    "<h4> Analise para definir se é melhor escalar volantes ou meias"
   ]
  },
  {
   "cell_type": "code",
   "execution_count": 31,
   "metadata": {},
   "outputs": [],
   "source": [
    "# Carrega os dataframes com os jogadores por posicao\n",
    "volantes = ['Rodrigo Lindoso', 'Rodrigo Dourado', 'Johnny', 'Lucas Ramos', 'Maicon', 'Lucas Silva', 'Thiago Santos']\n",
    "centrais = ['Edenílson', 'Praxedes', 'Nonato', 'Matheus Henrique', 'Darlan']\n",
    "atacantes = ['Mauricio', 'Bosh', 'Patrick', 'Alisson', 'Jean Pyerre', 'Everton', 'Pinares', 'Pedro Lucas']\n",
    "dfVolantes = meias[(meias['apelido'].isin(volantes)) & (meias['jogos'] > 0)]\n",
    "dfCentrais = meias[(meias['apelido'].isin(centrais)) & (meias['jogos'] > 0)]\n",
    "dfAtacantes = meias[(meias['apelido'].isin(atacantes)) & (meias['jogos'] > 0)]"
   ]
  },
  {
   "cell_type": "code",
   "execution_count": 43,
   "metadata": {},
   "outputs": [
    {
     "data": {
      "text/html": [
       "<div>\n",
       "<style scoped>\n",
       "    .dataframe tbody tr th:only-of-type {\n",
       "        vertical-align: middle;\n",
       "    }\n",
       "\n",
       "    .dataframe tbody tr th {\n",
       "        vertical-align: top;\n",
       "    }\n",
       "\n",
       "    .dataframe thead th {\n",
       "        text-align: right;\n",
       "    }\n",
       "</style>\n",
       "<table border=\"1\" class=\"dataframe\">\n",
       "  <thead>\n",
       "    <tr style=\"text-align: right;\">\n",
       "      <th></th>\n",
       "      <th>preco</th>\n",
       "      <th>pontos</th>\n",
       "      <th>variacao</th>\n",
       "      <th>media</th>\n",
       "      <th>rodada</th>\n",
       "      <th>jogos</th>\n",
       "    </tr>\n",
       "  </thead>\n",
       "  <tbody>\n",
       "    <tr>\n",
       "      <th>count</th>\n",
       "      <td>3.000000</td>\n",
       "      <td>3.000000</td>\n",
       "      <td>3.000000</td>\n",
       "      <td>3.000000</td>\n",
       "      <td>3.0</td>\n",
       "      <td>3.0</td>\n",
       "    </tr>\n",
       "    <tr>\n",
       "      <th>mean</th>\n",
       "      <td>5.200000</td>\n",
       "      <td>2.466667</td>\n",
       "      <td>0.200000</td>\n",
       "      <td>2.466667</td>\n",
       "      <td>1.0</td>\n",
       "      <td>1.0</td>\n",
       "    </tr>\n",
       "    <tr>\n",
       "      <th>std</th>\n",
       "      <td>3.869974</td>\n",
       "      <td>5.558177</td>\n",
       "      <td>3.869974</td>\n",
       "      <td>5.558177</td>\n",
       "      <td>0.0</td>\n",
       "      <td>0.0</td>\n",
       "    </tr>\n",
       "    <tr>\n",
       "      <th>min</th>\n",
       "      <td>2.370000</td>\n",
       "      <td>-1.600000</td>\n",
       "      <td>-2.630000</td>\n",
       "      <td>-1.600000</td>\n",
       "      <td>1.0</td>\n",
       "      <td>1.0</td>\n",
       "    </tr>\n",
       "    <tr>\n",
       "      <th>25%</th>\n",
       "      <td>2.995000</td>\n",
       "      <td>-0.700000</td>\n",
       "      <td>-2.005000</td>\n",
       "      <td>-0.700000</td>\n",
       "      <td>1.0</td>\n",
       "      <td>1.0</td>\n",
       "    </tr>\n",
       "    <tr>\n",
       "      <th>50%</th>\n",
       "      <td>3.620000</td>\n",
       "      <td>0.200000</td>\n",
       "      <td>-1.380000</td>\n",
       "      <td>0.200000</td>\n",
       "      <td>1.0</td>\n",
       "      <td>1.0</td>\n",
       "    </tr>\n",
       "    <tr>\n",
       "      <th>75%</th>\n",
       "      <td>6.615000</td>\n",
       "      <td>4.500000</td>\n",
       "      <td>1.615000</td>\n",
       "      <td>4.500000</td>\n",
       "      <td>1.0</td>\n",
       "      <td>1.0</td>\n",
       "    </tr>\n",
       "    <tr>\n",
       "      <th>max</th>\n",
       "      <td>9.610000</td>\n",
       "      <td>8.800000</td>\n",
       "      <td>4.610000</td>\n",
       "      <td>8.800000</td>\n",
       "      <td>1.0</td>\n",
       "      <td>1.0</td>\n",
       "    </tr>\n",
       "  </tbody>\n",
       "</table>\n",
       "</div>"
      ],
      "text/plain": [
       "          preco    pontos  variacao     media  rodada  jogos\n",
       "count  3.000000  3.000000  3.000000  3.000000     3.0    3.0\n",
       "mean   5.200000  2.466667  0.200000  2.466667     1.0    1.0\n",
       "std    3.869974  5.558177  3.869974  5.558177     0.0    0.0\n",
       "min    2.370000 -1.600000 -2.630000 -1.600000     1.0    1.0\n",
       "25%    2.995000 -0.700000 -2.005000 -0.700000     1.0    1.0\n",
       "50%    3.620000  0.200000 -1.380000  0.200000     1.0    1.0\n",
       "75%    6.615000  4.500000  1.615000  4.500000     1.0    1.0\n",
       "max    9.610000  8.800000  4.610000  8.800000     1.0    1.0"
      ]
     },
     "execution_count": 43,
     "metadata": {},
     "output_type": "execute_result"
    }
   ],
   "source": [
    "# dfVolantes.describe()\n",
    "# dfCentrais.describe()\n",
    "# dfAtacantes.describe()"
   ]
  },
  {
   "cell_type": "code",
   "execution_count": 66,
   "metadata": {},
   "outputs": [],
   "source": [
    "df1 = pd.DataFrame(dfVolantes, columns=['media', 'rodada'])\n",
    "df2 = pd.DataFrame(dfCentrais, columns=['media', 'rodada'])\n",
    "df3 = pd.DataFrame(dfAtacantes, columns=['media', 'rodada'])"
   ]
  },
  {
   "cell_type": "code",
   "execution_count": 67,
   "metadata": {},
   "outputs": [
    {
     "data": {
      "text/html": [
       "<div>\n",
       "<style scoped>\n",
       "    .dataframe tbody tr th:only-of-type {\n",
       "        vertical-align: middle;\n",
       "    }\n",
       "\n",
       "    .dataframe tbody tr th {\n",
       "        vertical-align: top;\n",
       "    }\n",
       "\n",
       "    .dataframe thead th {\n",
       "        text-align: right;\n",
       "    }\n",
       "</style>\n",
       "<table border=\"1\" class=\"dataframe\">\n",
       "  <thead>\n",
       "    <tr style=\"text-align: right;\">\n",
       "      <th></th>\n",
       "      <th>media</th>\n",
       "      <th>rodada</th>\n",
       "    </tr>\n",
       "  </thead>\n",
       "  <tbody>\n",
       "    <tr>\n",
       "      <th>125</th>\n",
       "      <td>8.8</td>\n",
       "      <td>1</td>\n",
       "    </tr>\n",
       "    <tr>\n",
       "      <th>135</th>\n",
       "      <td>-1.6</td>\n",
       "      <td>1</td>\n",
       "    </tr>\n",
       "    <tr>\n",
       "      <th>141</th>\n",
       "      <td>0.2</td>\n",
       "      <td>1</td>\n",
       "    </tr>\n",
       "  </tbody>\n",
       "</table>\n",
       "</div>"
      ],
      "text/plain": [
       "     media  rodada\n",
       "125    8.8       1\n",
       "135   -1.6       1\n",
       "141    0.2       1"
      ]
     },
     "execution_count": 67,
     "metadata": {},
     "output_type": "execute_result"
    }
   ],
   "source": [
    "\n"
   ]
  },
  {
   "cell_type": "code",
   "execution_count": null,
   "metadata": {},
   "outputs": [],
   "source": []
  }
 ],
 "metadata": {
  "kernelspec": {
   "display_name": "Python 3",
   "language": "python",
   "name": "python3"
  },
  "language_info": {
   "codemirror_mode": {
    "name": "ipython",
    "version": 3
   },
   "file_extension": ".py",
   "mimetype": "text/x-python",
   "name": "python",
   "nbconvert_exporter": "python",
   "pygments_lexer": "ipython3",
   "version": "3.8.5"
  }
 },
 "nbformat": 4,
 "nbformat_minor": 4
}
